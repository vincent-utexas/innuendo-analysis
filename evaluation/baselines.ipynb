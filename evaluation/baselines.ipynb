{
 "cells": [
  {
   "cell_type": "code",
   "execution_count": null,
   "metadata": {
    "colab": {
     "base_uri": "https://localhost:8080/"
    },
    "executionInfo": {
     "elapsed": 24924,
     "status": "ok",
     "timestamp": 1733500688723,
     "user": {
      "displayName": "Vincent Xiao",
      "userId": "14232827232385292285"
     },
     "user_tz": 360
    },
    "id": "fh5KMj99YyFV",
    "outputId": "9c672de7-c9ca-4435-98a5-22ad7898c494"
   },
   "outputs": [
    {
     "name": "stdout",
     "output_type": "stream",
     "text": [
      "Mounted at /content/drive\n"
     ]
    }
   ],
   "source": [
    "import pandas as pd\n",
    "from google.colab import drive\n",
    "\n",
    "drive.mount('/content/drive')\n",
    "train = pd.read_csv(\"/content/drive/My Drive/LIN371/train_df.csv\")\n",
    "val = pd.read_csv(\"/content/drive/My Drive/LIN371/val_df.csv\")\n",
    "test = pd.read_csv(\"/content/drive/My Drive/LIN371/test_df.csv\")"
   ]
  },
  {
   "cell_type": "code",
   "execution_count": null,
   "metadata": {
    "id": "_HITrzTSYyFY"
   },
   "outputs": [],
   "source": [
    "docs_train, docs_val, docs_test = train['body'].values, val['body'].values, test['body'].values\n",
    "y_train, y_val, y_test = train['label'].values, val['label'].values, test['label'].values\n",
    "\n",
    "# four category split\n",
    "categories = pd.DataFrame({\"body\": test['body'], \"label\": test['label'], \"new_label\": test['new_label']})\n",
    "\n",
    "cs_nonsfw = categories[categories['new_label'] == 'control_source_no_explicit_words']\n",
    "cs_nsfw = categories[categories['new_label'] == 'control_source_has_explicit_words']\n",
    "es_nonsfw = categories[categories['new_label'] == 'explicit_source_no_explicit_words']\n",
    "es_nsfw = categories[categories['new_label'] == 'explicit_source_has_explicit_words']\n",
    "\n",
    "categories = [cs_nonsfw, cs_nsfw, es_nonsfw, es_nsfw]"
   ]
  },
  {
   "cell_type": "code",
   "execution_count": null,
   "metadata": {
    "id": "wqkEt3oIYyFb"
   },
   "outputs": [],
   "source": [
    "from sklearn.feature_extraction.text import CountVectorizer\n",
    "from sklearn.metrics import f1_score, accuracy_score, classification_report\n",
    "\n",
    "def fit_cvect(model):\n",
    "  vect = CountVectorizer(stop_words='english')\n",
    "  X_train = vect.fit_transform(docs_train)\n",
    "  model.fit(X_train, y_train)\n",
    "  return model\n",
    "\n",
    "def evaluate_cvect(model):\n",
    "  vect = CountVectorizer(stop_words='english')\n",
    "  X_train = vect.fit_transform(docs_train)\n",
    "  X_val = vect.transform(docs_val)\n",
    "  X_test = vect.transform(docs_test)\n",
    "\n",
    "  preds = model.predict(X_train)\n",
    "  print(\"train accuracy\", accuracy_score(y_train, preds))\n",
    "\n",
    "  preds = model.predict(X_val)\n",
    "  print(\"val accuracy\", accuracy_score(y_val, preds))\n",
    "\n",
    "  preds = model.predict(X_test)\n",
    "  print(\"test accuracy\", accuracy_score(y_test, preds))\n",
    "  print(classification_report(y_test, preds))\n",
    "\n",
    "def evaluate_cvect_cats(model):\n",
    "  vect = CountVectorizer(stop_words='english')\n",
    "  vect.fit(docs_train)\n",
    "  for cat in categories:\n",
    "    docs = cat['body'].values\n",
    "    labels = cat['label'].values\n",
    "    X_in = vect.transform(docs)\n",
    "    preds = model.predict(X_in)\n",
    "    wrong = (preds != labels)\n",
    "    print(cat.iloc[0]['new_label'], accuracy_score(labels, preds))\n",
    "    print(\"missed examples:\")\n",
    "    print(\"==========================\")\n",
    "    for doc, pred in zip(docs[wrong][:5], preds[wrong][:5]):\n",
    "      print(f\"{doc}{pred:>10}\")\n",
    "    print()\n",
    "\n",
    "def evaluate_text_cvect(model, docs):\n",
    "  if not isinstance(docs, list):\n",
    "      docs = [docs]\n",
    "\n",
    "  vect = CountVectorizer(stop_words='english')\n",
    "  vect.fit(docs_train)\n",
    "  X_in = vect.transform(docs)\n",
    "  preds = model.predict(X_in)\n",
    "  return preds\n"
   ]
  },
  {
   "cell_type": "code",
   "execution_count": null,
   "metadata": {
    "colab": {
     "base_uri": "https://localhost:8080/"
    },
    "executionInfo": {
     "elapsed": 3174,
     "status": "ok",
     "timestamp": 1733500718950,
     "user": {
      "displayName": "Vincent Xiao",
      "userId": "14232827232385292285"
     },
     "user_tz": 360
    },
    "id": "D853BQE6YyFc",
    "outputId": "4f840179-3c55-4c3b-d97c-0f9579ea67f1"
   },
   "outputs": [
    {
     "name": "stdout",
     "output_type": "stream",
     "text": [
      "train accuracy 0.9476298902918651\n",
      "val accuracy 0.8068722831711861\n",
      "test accuracy 0.8045953218795281\n",
      "              precision    recall  f1-score   support\n",
      "\n",
      "           0       0.83      0.77      0.80      2416\n",
      "           1       0.78      0.84      0.81      2415\n",
      "\n",
      "    accuracy                           0.80      4831\n",
      "   macro avg       0.81      0.80      0.80      4831\n",
      "weighted avg       0.81      0.80      0.80      4831\n",
      "\n"
     ]
    }
   ],
   "source": [
    "from sklearn.linear_model import LogisticRegression\n",
    "lr_cvect = LogisticRegression(random_state=3)\n",
    "lr_cvect = fit_cvect(lr_cvect)\n",
    "evaluate_cvect(lr_cvect)\n",
    "# evaluate_cvect_cats(lr_cvect)\n",
    "\n",
    "# train accuracy 0.9476298902918651\n",
    "# val accuracy 0.8068722831711861\n",
    "# test accuracy 0.8045953218795281\n",
    "# control_source_no_explicit_words 0.7753589624826308\n",
    "# control_source_has_explicit_words 0.6964980544747081\n",
    "# explicit_source_no_explicit_words 0.8090575275397797\n",
    "# explicit_source_has_explicit_words 0.911651728553137"
   ]
  },
  {
   "cell_type": "code",
   "execution_count": null,
   "metadata": {
    "colab": {
     "base_uri": "https://localhost:8080/"
    },
    "executionInfo": {
     "elapsed": 1958,
     "status": "ok",
     "timestamp": 1733500732378,
     "user": {
      "displayName": "Vincent Xiao",
      "userId": "14232827232385292285"
     },
     "user_tz": 360
    },
    "id": "y1_VYb84YyFd",
    "outputId": "9c64c5a5-4f16-4508-d233-eaf84f3fa2f9"
   },
   "outputs": [
    {
     "name": "stdout",
     "output_type": "stream",
     "text": [
      "train accuracy 0.8930863175326019\n",
      "val accuracy 0.817429103705237\n",
      "test accuracy 0.8091492444628441\n",
      "              precision    recall  f1-score   support\n",
      "\n",
      "           0       0.80      0.83      0.81      2416\n",
      "           1       0.82      0.79      0.81      2415\n",
      "\n",
      "    accuracy                           0.81      4831\n",
      "   macro avg       0.81      0.81      0.81      4831\n",
      "weighted avg       0.81      0.81      0.81      4831\n",
      "\n"
     ]
    }
   ],
   "source": [
    "from sklearn.naive_bayes import MultinomialNB\n",
    "nb_cvect = MultinomialNB()\n",
    "nb_cvect = fit_cvect(nb_cvect)\n",
    "evaluate_cvect(nb_cvect)\n",
    "# evaluate_cvect_cats(nb_cvect)\n",
    "\n",
    "# train accuracy 0.8930863175326019\n",
    "# val accuracy 0.817429103705237\n",
    "# test accuracy 0.8091492444628441\n",
    "# control_source_no_explicit_words 0.8364983788791107\n",
    "# control_source_has_explicit_words 0.7315175097276264\n",
    "# explicit_source_no_explicit_words 0.7343941248470012\n",
    "# explicit_source_has_explicit_words 0.9154929577464789"
   ]
  },
  {
   "cell_type": "code",
   "execution_count": null,
   "metadata": {
    "colab": {
     "base_uri": "https://localhost:8080/"
    },
    "executionInfo": {
     "elapsed": 925,
     "status": "ok",
     "timestamp": 1733328932525,
     "user": {
      "displayName": "Vincent Xiao",
      "userId": "14232827232385292285"
     },
     "user_tz": 360
    },
    "id": "9cK2bzydYyFe",
    "outputId": "5f6b68c5-9e9a-477e-929a-2c3ab8c4d82a"
   },
   "outputs": [
    {
     "data": {
      "text/plain": [
       "array([0])"
      ]
     },
     "execution_count": 24,
     "metadata": {},
     "output_type": "execute_result"
    }
   ],
   "source": [
    "evaluate_text_cvect(lr_cvect, \"It's like 199 degrees, when you're doing it with me doing it with me.\")"
   ]
  }
 ],
 "metadata": {
  "colab": {
   "provenance": []
  },
  "kernelspec": {
   "display_name": "Python 3",
   "name": "python3"
  },
  "language_info": {
   "name": "python"
  }
 },
 "nbformat": 4,
 "nbformat_minor": 0
}
