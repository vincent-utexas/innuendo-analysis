{
 "cells": [
  {
   "cell_type": "code",
   "execution_count": 1,
   "metadata": {
    "colab": {
     "base_uri": "https://localhost:8080/"
    },
    "executionInfo": {
     "elapsed": 29166,
     "status": "ok",
     "timestamp": 1733847776384,
     "user": {
      "displayName": "Devin Xiao",
      "userId": "17020114312814891256"
     },
     "user_tz": 360
    },
    "id": "eMbZSvS6uDaM",
    "outputId": "72010ea8-e51e-4d51-8982-04f69baed8a4"
   },
   "outputs": [
    {
     "name": "stdout",
     "output_type": "stream",
     "text": [
      "Mounted at /content/drive\n"
     ]
    }
   ],
   "source": [
    "import torch\n",
    "import pandas as pd\n",
    "import numpy as np\n",
    "from google.colab import drive\n",
    "drive.mount('/content/drive')"
   ]
  },
  {
   "cell_type": "code",
   "execution_count": null,
   "metadata": {
    "id": "dm0QzmWk4o_A"
   },
   "outputs": [],
   "source": [
    "# https://pytorch.org/tutorials/beginner/introyt/captumyt.html"
   ]
  },
  {
   "cell_type": "code",
   "execution_count": null,
   "metadata": {
    "id": "oP94nTY97ZfI"
   },
   "outputs": [],
   "source": [
    "# https://captum.ai/tutorials/Bert_SQUAD_Interpret\n",
    "# https://github.com/pytorch/captum/issues/373"
   ]
  },
  {
   "cell_type": "code",
   "execution_count": 2,
   "metadata": {
    "colab": {
     "base_uri": "https://localhost:8080/",
     "height": 206
    },
    "executionInfo": {
     "elapsed": 1228,
     "status": "ok",
     "timestamp": 1733847804690,
     "user": {
      "displayName": "Devin Xiao",
      "userId": "17020114312814891256"
     },
     "user_tz": 360
    },
    "id": "EreXYiH9Cj7D",
    "outputId": "977f37e4-a1a7-4128-f65d-0a43d0ab77b1"
   },
   "outputs": [
    {
     "data": {
      "application/vnd.google.colaboratory.intrinsic+json": {
       "summary": "{\n  \"name\": \"predicitons\",\n  \"rows\": 4831,\n  \"fields\": [\n    {\n      \"column\": \"Unnamed: 0\",\n      \"properties\": {\n        \"dtype\": \"number\",\n        \"std\": 1394,\n        \"min\": 0,\n        \"max\": 4830,\n        \"num_unique_values\": 4831,\n        \"samples\": [\n          746,\n          1550,\n          4529\n        ],\n        \"semantic_type\": \"\",\n        \"description\": \"\"\n      }\n    },\n    {\n      \"column\": \"text\",\n      \"properties\": {\n        \"dtype\": \"string\",\n        \"num_unique_values\": 4818,\n        \"samples\": [\n          \"Alright! an actual episode suggestion! I'm going to check that one out. Added it to my 'must watch' Google Notes doc. I want to have an open mind about it, whether it ultimately works for me or not, I want to see what others may define as the best of the series.\",\n          \"Discretely leaning on one side spreading the cheeks to let out your cat breath fart. A subtle way to show you care.\",\n          \"Looks good enough to eat.  \\ud83d\\ude0b\"\n        ],\n        \"semantic_type\": \"\",\n        \"description\": \"\"\n      }\n    },\n    {\n      \"column\": \"label\",\n      \"properties\": {\n        \"dtype\": \"number\",\n        \"std\": 0,\n        \"min\": 0,\n        \"max\": 1,\n        \"num_unique_values\": 2,\n        \"samples\": [\n          0,\n          1\n        ],\n        \"semantic_type\": \"\",\n        \"description\": \"\"\n      }\n    },\n    {\n      \"column\": \"new_label\",\n      \"properties\": {\n        \"dtype\": \"category\",\n        \"num_unique_values\": 4,\n        \"samples\": [\n          \"explicit_source_no_explicit_words\",\n          \"control_source_has_explicit_words\"\n        ],\n        \"semantic_type\": \"\",\n        \"description\": \"\"\n      }\n    },\n    {\n      \"column\": \"prediction\",\n      \"properties\": {\n        \"dtype\": \"number\",\n        \"std\": 0,\n        \"min\": 0,\n        \"max\": 1,\n        \"num_unique_values\": 2,\n        \"samples\": [\n          0,\n          1\n        ],\n        \"semantic_type\": \"\",\n        \"description\": \"\"\n      }\n    }\n  ]\n}",
       "type": "dataframe",
       "variable_name": "predicitons"
      },
      "text/html": [
       "\n",
       "  <div id=\"df-b540fe73-54ff-46c5-9d0a-2c965e84b0ec\" class=\"colab-df-container\">\n",
       "    <div>\n",
       "<style scoped>\n",
       "    .dataframe tbody tr th:only-of-type {\n",
       "        vertical-align: middle;\n",
       "    }\n",
       "\n",
       "    .dataframe tbody tr th {\n",
       "        vertical-align: top;\n",
       "    }\n",
       "\n",
       "    .dataframe thead th {\n",
       "        text-align: right;\n",
       "    }\n",
       "</style>\n",
       "<table border=\"1\" class=\"dataframe\">\n",
       "  <thead>\n",
       "    <tr style=\"text-align: right;\">\n",
       "      <th></th>\n",
       "      <th>Unnamed: 0</th>\n",
       "      <th>text</th>\n",
       "      <th>label</th>\n",
       "      <th>new_label</th>\n",
       "      <th>prediction</th>\n",
       "    </tr>\n",
       "  </thead>\n",
       "  <tbody>\n",
       "    <tr>\n",
       "      <th>0</th>\n",
       "      <td>0</td>\n",
       "      <td>Those pussy lips need more cleaning with my to...</td>\n",
       "      <td>1</td>\n",
       "      <td>explicit_source_has_explicit_words</td>\n",
       "      <td>1</td>\n",
       "    </tr>\n",
       "    <tr>\n",
       "      <th>1</th>\n",
       "      <td>1</td>\n",
       "      <td>I have choices for you. Choice seating, at that</td>\n",
       "      <td>1</td>\n",
       "      <td>explicit_source_no_explicit_words</td>\n",
       "      <td>1</td>\n",
       "    </tr>\n",
       "    <tr>\n",
       "      <th>2</th>\n",
       "      <td>2</td>\n",
       "      <td>I want to finish.</td>\n",
       "      <td>1</td>\n",
       "      <td>explicit_source_no_explicit_words</td>\n",
       "      <td>0</td>\n",
       "    </tr>\n",
       "    <tr>\n",
       "      <th>3</th>\n",
       "      <td>3</td>\n",
       "      <td>Oh it Will, one way or an other 😉</td>\n",
       "      <td>1</td>\n",
       "      <td>explicit_source_no_explicit_words</td>\n",
       "      <td>1</td>\n",
       "    </tr>\n",
       "    <tr>\n",
       "      <th>4</th>\n",
       "      <td>4</td>\n",
       "      <td>No need to thank me, thank you so much for sha...</td>\n",
       "      <td>1</td>\n",
       "      <td>explicit_source_no_explicit_words</td>\n",
       "      <td>0</td>\n",
       "    </tr>\n",
       "  </tbody>\n",
       "</table>\n",
       "</div>\n",
       "    <div class=\"colab-df-buttons\">\n",
       "\n",
       "  <div class=\"colab-df-container\">\n",
       "    <button class=\"colab-df-convert\" onclick=\"convertToInteractive('df-b540fe73-54ff-46c5-9d0a-2c965e84b0ec')\"\n",
       "            title=\"Convert this dataframe to an interactive table.\"\n",
       "            style=\"display:none;\">\n",
       "\n",
       "  <svg xmlns=\"http://www.w3.org/2000/svg\" height=\"24px\" viewBox=\"0 -960 960 960\">\n",
       "    <path d=\"M120-120v-720h720v720H120Zm60-500h600v-160H180v160Zm220 220h160v-160H400v160Zm0 220h160v-160H400v160ZM180-400h160v-160H180v160Zm440 0h160v-160H620v160ZM180-180h160v-160H180v160Zm440 0h160v-160H620v160Z\"/>\n",
       "  </svg>\n",
       "    </button>\n",
       "\n",
       "  <style>\n",
       "    .colab-df-container {\n",
       "      display:flex;\n",
       "      gap: 12px;\n",
       "    }\n",
       "\n",
       "    .colab-df-convert {\n",
       "      background-color: #E8F0FE;\n",
       "      border: none;\n",
       "      border-radius: 50%;\n",
       "      cursor: pointer;\n",
       "      display: none;\n",
       "      fill: #1967D2;\n",
       "      height: 32px;\n",
       "      padding: 0 0 0 0;\n",
       "      width: 32px;\n",
       "    }\n",
       "\n",
       "    .colab-df-convert:hover {\n",
       "      background-color: #E2EBFA;\n",
       "      box-shadow: 0px 1px 2px rgba(60, 64, 67, 0.3), 0px 1px 3px 1px rgba(60, 64, 67, 0.15);\n",
       "      fill: #174EA6;\n",
       "    }\n",
       "\n",
       "    .colab-df-buttons div {\n",
       "      margin-bottom: 4px;\n",
       "    }\n",
       "\n",
       "    [theme=dark] .colab-df-convert {\n",
       "      background-color: #3B4455;\n",
       "      fill: #D2E3FC;\n",
       "    }\n",
       "\n",
       "    [theme=dark] .colab-df-convert:hover {\n",
       "      background-color: #434B5C;\n",
       "      box-shadow: 0px 1px 3px 1px rgba(0, 0, 0, 0.15);\n",
       "      filter: drop-shadow(0px 1px 2px rgba(0, 0, 0, 0.3));\n",
       "      fill: #FFFFFF;\n",
       "    }\n",
       "  </style>\n",
       "\n",
       "    <script>\n",
       "      const buttonEl =\n",
       "        document.querySelector('#df-b540fe73-54ff-46c5-9d0a-2c965e84b0ec button.colab-df-convert');\n",
       "      buttonEl.style.display =\n",
       "        google.colab.kernel.accessAllowed ? 'block' : 'none';\n",
       "\n",
       "      async function convertToInteractive(key) {\n",
       "        const element = document.querySelector('#df-b540fe73-54ff-46c5-9d0a-2c965e84b0ec');\n",
       "        const dataTable =\n",
       "          await google.colab.kernel.invokeFunction('convertToInteractive',\n",
       "                                                    [key], {});\n",
       "        if (!dataTable) return;\n",
       "\n",
       "        const docLinkHtml = 'Like what you see? Visit the ' +\n",
       "          '<a target=\"_blank\" href=https://colab.research.google.com/notebooks/data_table.ipynb>data table notebook</a>'\n",
       "          + ' to learn more about interactive tables.';\n",
       "        element.innerHTML = '';\n",
       "        dataTable['output_type'] = 'display_data';\n",
       "        await google.colab.output.renderOutput(dataTable, element);\n",
       "        const docLink = document.createElement('div');\n",
       "        docLink.innerHTML = docLinkHtml;\n",
       "        element.appendChild(docLink);\n",
       "      }\n",
       "    </script>\n",
       "  </div>\n",
       "\n",
       "\n",
       "<div id=\"df-428624b6-b644-4934-98b2-2d78224c1740\">\n",
       "  <button class=\"colab-df-quickchart\" onclick=\"quickchart('df-428624b6-b644-4934-98b2-2d78224c1740')\"\n",
       "            title=\"Suggest charts\"\n",
       "            style=\"display:none;\">\n",
       "\n",
       "<svg xmlns=\"http://www.w3.org/2000/svg\" height=\"24px\"viewBox=\"0 0 24 24\"\n",
       "     width=\"24px\">\n",
       "    <g>\n",
       "        <path d=\"M19 3H5c-1.1 0-2 .9-2 2v14c0 1.1.9 2 2 2h14c1.1 0 2-.9 2-2V5c0-1.1-.9-2-2-2zM9 17H7v-7h2v7zm4 0h-2V7h2v10zm4 0h-2v-4h2v4z\"/>\n",
       "    </g>\n",
       "</svg>\n",
       "  </button>\n",
       "\n",
       "<style>\n",
       "  .colab-df-quickchart {\n",
       "      --bg-color: #E8F0FE;\n",
       "      --fill-color: #1967D2;\n",
       "      --hover-bg-color: #E2EBFA;\n",
       "      --hover-fill-color: #174EA6;\n",
       "      --disabled-fill-color: #AAA;\n",
       "      --disabled-bg-color: #DDD;\n",
       "  }\n",
       "\n",
       "  [theme=dark] .colab-df-quickchart {\n",
       "      --bg-color: #3B4455;\n",
       "      --fill-color: #D2E3FC;\n",
       "      --hover-bg-color: #434B5C;\n",
       "      --hover-fill-color: #FFFFFF;\n",
       "      --disabled-bg-color: #3B4455;\n",
       "      --disabled-fill-color: #666;\n",
       "  }\n",
       "\n",
       "  .colab-df-quickchart {\n",
       "    background-color: var(--bg-color);\n",
       "    border: none;\n",
       "    border-radius: 50%;\n",
       "    cursor: pointer;\n",
       "    display: none;\n",
       "    fill: var(--fill-color);\n",
       "    height: 32px;\n",
       "    padding: 0;\n",
       "    width: 32px;\n",
       "  }\n",
       "\n",
       "  .colab-df-quickchart:hover {\n",
       "    background-color: var(--hover-bg-color);\n",
       "    box-shadow: 0 1px 2px rgba(60, 64, 67, 0.3), 0 1px 3px 1px rgba(60, 64, 67, 0.15);\n",
       "    fill: var(--button-hover-fill-color);\n",
       "  }\n",
       "\n",
       "  .colab-df-quickchart-complete:disabled,\n",
       "  .colab-df-quickchart-complete:disabled:hover {\n",
       "    background-color: var(--disabled-bg-color);\n",
       "    fill: var(--disabled-fill-color);\n",
       "    box-shadow: none;\n",
       "  }\n",
       "\n",
       "  .colab-df-spinner {\n",
       "    border: 2px solid var(--fill-color);\n",
       "    border-color: transparent;\n",
       "    border-bottom-color: var(--fill-color);\n",
       "    animation:\n",
       "      spin 1s steps(1) infinite;\n",
       "  }\n",
       "\n",
       "  @keyframes spin {\n",
       "    0% {\n",
       "      border-color: transparent;\n",
       "      border-bottom-color: var(--fill-color);\n",
       "      border-left-color: var(--fill-color);\n",
       "    }\n",
       "    20% {\n",
       "      border-color: transparent;\n",
       "      border-left-color: var(--fill-color);\n",
       "      border-top-color: var(--fill-color);\n",
       "    }\n",
       "    30% {\n",
       "      border-color: transparent;\n",
       "      border-left-color: var(--fill-color);\n",
       "      border-top-color: var(--fill-color);\n",
       "      border-right-color: var(--fill-color);\n",
       "    }\n",
       "    40% {\n",
       "      border-color: transparent;\n",
       "      border-right-color: var(--fill-color);\n",
       "      border-top-color: var(--fill-color);\n",
       "    }\n",
       "    60% {\n",
       "      border-color: transparent;\n",
       "      border-right-color: var(--fill-color);\n",
       "    }\n",
       "    80% {\n",
       "      border-color: transparent;\n",
       "      border-right-color: var(--fill-color);\n",
       "      border-bottom-color: var(--fill-color);\n",
       "    }\n",
       "    90% {\n",
       "      border-color: transparent;\n",
       "      border-bottom-color: var(--fill-color);\n",
       "    }\n",
       "  }\n",
       "</style>\n",
       "\n",
       "  <script>\n",
       "    async function quickchart(key) {\n",
       "      const quickchartButtonEl =\n",
       "        document.querySelector('#' + key + ' button');\n",
       "      quickchartButtonEl.disabled = true;  // To prevent multiple clicks.\n",
       "      quickchartButtonEl.classList.add('colab-df-spinner');\n",
       "      try {\n",
       "        const charts = await google.colab.kernel.invokeFunction(\n",
       "            'suggestCharts', [key], {});\n",
       "      } catch (error) {\n",
       "        console.error('Error during call to suggestCharts:', error);\n",
       "      }\n",
       "      quickchartButtonEl.classList.remove('colab-df-spinner');\n",
       "      quickchartButtonEl.classList.add('colab-df-quickchart-complete');\n",
       "    }\n",
       "    (() => {\n",
       "      let quickchartButtonEl =\n",
       "        document.querySelector('#df-428624b6-b644-4934-98b2-2d78224c1740 button');\n",
       "      quickchartButtonEl.style.display =\n",
       "        google.colab.kernel.accessAllowed ? 'block' : 'none';\n",
       "    })();\n",
       "  </script>\n",
       "</div>\n",
       "\n",
       "    </div>\n",
       "  </div>\n"
      ],
      "text/plain": [
       "   Unnamed: 0                                               text  label  \\\n",
       "0           0  Those pussy lips need more cleaning with my to...      1   \n",
       "1           1    I have choices for you. Choice seating, at that      1   \n",
       "2           2                                  I want to finish.      1   \n",
       "3           3                  Oh it Will, one way or an other 😉      1   \n",
       "4           4  No need to thank me, thank you so much for sha...      1   \n",
       "\n",
       "                            new_label  prediction  \n",
       "0  explicit_source_has_explicit_words           1  \n",
       "1   explicit_source_no_explicit_words           1  \n",
       "2   explicit_source_no_explicit_words           0  \n",
       "3   explicit_source_no_explicit_words           1  \n",
       "4   explicit_source_no_explicit_words           0  "
      ]
     },
     "execution_count": 2,
     "metadata": {},
     "output_type": "execute_result"
    }
   ],
   "source": [
    "# read predictions\n",
    "predicitons = pd.read_csv(\"/content/drive/My Drive/LIN371/predictions/predictions_classification_only.csv\")\n",
    "predicitons.head()"
   ]
  },
  {
   "cell_type": "code",
   "execution_count": 3,
   "metadata": {
    "colab": {
     "base_uri": "https://localhost:8080/"
    },
    "executionInfo": {
     "elapsed": 331,
     "status": "ok",
     "timestamp": 1733847813104,
     "user": {
      "displayName": "Devin Xiao",
      "userId": "17020114312814891256"
     },
     "user_tz": 360
    },
    "id": "yW98_IZpClvL",
    "outputId": "7502c916-d154-4336-a428-d9120fd2eaa1"
   },
   "outputs": [
    {
     "data": {
      "text/plain": [
       "['Looks wet and ready',\n",
       " 'Come here you cuddly little rascal',\n",
       " 'Exactly what I need after a long day at work.',\n",
       " 'man i love a Bush! u are stunning',\n",
       " 'Mmmmm mmmm mmm\\n']"
      ]
     },
     "execution_count": 3,
     "metadata": {},
     "output_type": "execute_result"
    }
   ],
   "source": [
    "# get some examples where pred is 1\n",
    "\n",
    "pred_1 = predicitons[predicitons['prediction'] == 1].sample(5, random_state=5)\n",
    "texts = pred_1['text'].tolist()\n",
    "texts"
   ]
  },
  {
   "cell_type": "code",
   "execution_count": 4,
   "metadata": {
    "executionInfo": {
     "elapsed": 22325,
     "status": "ok",
     "timestamp": 1733847918762,
     "user": {
      "displayName": "Devin Xiao",
      "userId": "17020114312814891256"
     },
     "user_tz": 360
    },
    "id": "UPTkd76g5lTa"
   },
   "outputs": [],
   "source": [
    "import transformers\n",
    "from transformers import BertTokenizer, BertForSequenceClassification\n",
    "\n",
    "model_path = 'dxhf100/lin371_classification_only'\n",
    "\n",
    "# set device\n",
    "device = torch.device('cuda' if torch.cuda.is_available() else 'cpu')\n",
    "# load model\n",
    "model = BertForSequenceClassification.from_pretrained(model_path)\n",
    "model.to(device)\n",
    "model.eval()\n",
    "model.zero_grad()\n",
    "# load tokenizer\n",
    "tokenizer = BertTokenizer.from_pretrained(model_path)\n",
    "\n",
    "# model = BertForSequenceClassification.from_pretrained('/content/drive/My Drive/LIN371/bert-base-uncased-mlm-classifier')\n",
    "# tokenizer = BertTokenizer.from_pretrained('/content/drive/My Drive/LIN371/bert-base-uncased-mlm-classifier')\n",
    "# model.to(device)\n",
    "# model.eval()\n",
    "# model.zero_grad()"
   ]
  },
  {
   "cell_type": "code",
   "execution_count": 5,
   "metadata": {
    "executionInfo": {
     "elapsed": 288,
     "status": "ok",
     "timestamp": 1733847923884,
     "user": {
      "displayName": "Devin Xiao",
      "userId": "17020114312814891256"
     },
     "user_tz": 360
    },
    "id": "Rye1Nntm_Wu5"
   },
   "outputs": [],
   "source": [
    "def predict(inputs, token_type_ids=None, position_ids=None, attention_mask=None):\n",
    "    output = model(\n",
    "        inputs,\n",
    "        token_type_ids=token_type_ids,\n",
    "        position_ids=position_ids,\n",
    "        attention_mask=attention_mask\n",
    "    )\n",
    "    return output.logits  # For sequence classification\n"
   ]
  },
  {
   "cell_type": "code",
   "execution_count": 6,
   "metadata": {
    "executionInfo": {
     "elapsed": 239,
     "status": "ok",
     "timestamp": 1733847928081,
     "user": {
      "displayName": "Devin Xiao",
      "userId": "17020114312814891256"
     },
     "user_tz": 360
    },
    "id": "iqHKca_5AvZN"
   },
   "outputs": [],
   "source": [
    "def class_forward_func(inputs, attention_mask=None):\n",
    "    pred = predict(inputs,\n",
    "                   attention_mask=attention_mask)\n",
    "    class_1_logits = pred[:,1]\n",
    "    return class_1_logits"
   ]
  },
  {
   "cell_type": "code",
   "execution_count": 8,
   "metadata": {
    "colab": {
     "base_uri": "https://localhost:8080/"
    },
    "executionInfo": {
     "elapsed": 5731,
     "status": "ok",
     "timestamp": 1733847950103,
     "user": {
      "displayName": "Devin Xiao",
      "userId": "17020114312814891256"
     },
     "user_tz": 360
    },
    "id": "U5Oox-42H8fs",
    "outputId": "b0342e4d-f095-4abe-9494-f436e1a04428"
   },
   "outputs": [
    {
     "name": "stdout",
     "output_type": "stream",
     "text": [
      "Collecting captum\n",
      "  Downloading captum-0.7.0-py3-none-any.whl.metadata (26 kB)\n",
      "Requirement already satisfied: matplotlib in /usr/local/lib/python3.10/dist-packages (from captum) (3.8.0)\n",
      "Requirement already satisfied: numpy in /usr/local/lib/python3.10/dist-packages (from captum) (1.26.4)\n",
      "Requirement already satisfied: torch>=1.6 in /usr/local/lib/python3.10/dist-packages (from captum) (2.5.1+cu121)\n",
      "Requirement already satisfied: tqdm in /usr/local/lib/python3.10/dist-packages (from captum) (4.66.6)\n",
      "Requirement already satisfied: filelock in /usr/local/lib/python3.10/dist-packages (from torch>=1.6->captum) (3.16.1)\n",
      "Requirement already satisfied: typing-extensions>=4.8.0 in /usr/local/lib/python3.10/dist-packages (from torch>=1.6->captum) (4.12.2)\n",
      "Requirement already satisfied: networkx in /usr/local/lib/python3.10/dist-packages (from torch>=1.6->captum) (3.4.2)\n",
      "Requirement already satisfied: jinja2 in /usr/local/lib/python3.10/dist-packages (from torch>=1.6->captum) (3.1.4)\n",
      "Requirement already satisfied: fsspec in /usr/local/lib/python3.10/dist-packages (from torch>=1.6->captum) (2024.10.0)\n",
      "Requirement already satisfied: sympy==1.13.1 in /usr/local/lib/python3.10/dist-packages (from torch>=1.6->captum) (1.13.1)\n",
      "Requirement already satisfied: mpmath<1.4,>=1.1.0 in /usr/local/lib/python3.10/dist-packages (from sympy==1.13.1->torch>=1.6->captum) (1.3.0)\n",
      "Requirement already satisfied: contourpy>=1.0.1 in /usr/local/lib/python3.10/dist-packages (from matplotlib->captum) (1.3.1)\n",
      "Requirement already satisfied: cycler>=0.10 in /usr/local/lib/python3.10/dist-packages (from matplotlib->captum) (0.12.1)\n",
      "Requirement already satisfied: fonttools>=4.22.0 in /usr/local/lib/python3.10/dist-packages (from matplotlib->captum) (4.55.1)\n",
      "Requirement already satisfied: kiwisolver>=1.0.1 in /usr/local/lib/python3.10/dist-packages (from matplotlib->captum) (1.4.7)\n",
      "Requirement already satisfied: packaging>=20.0 in /usr/local/lib/python3.10/dist-packages (from matplotlib->captum) (24.2)\n",
      "Requirement already satisfied: pillow>=6.2.0 in /usr/local/lib/python3.10/dist-packages (from matplotlib->captum) (11.0.0)\n",
      "Requirement already satisfied: pyparsing>=2.3.1 in /usr/local/lib/python3.10/dist-packages (from matplotlib->captum) (3.2.0)\n",
      "Requirement already satisfied: python-dateutil>=2.7 in /usr/local/lib/python3.10/dist-packages (from matplotlib->captum) (2.8.2)\n",
      "Requirement already satisfied: six>=1.5 in /usr/local/lib/python3.10/dist-packages (from python-dateutil>=2.7->matplotlib->captum) (1.16.0)\n",
      "Requirement already satisfied: MarkupSafe>=2.0 in /usr/local/lib/python3.10/dist-packages (from jinja2->torch>=1.6->captum) (3.0.2)\n",
      "Downloading captum-0.7.0-py3-none-any.whl (1.3 MB)\n",
      "\u001b[2K   \u001b[90m━━━━━━━━━━━━━━━━━━━━━━━━━━━━━━━━━━━━━━━━\u001b[0m \u001b[32m1.3/1.3 MB\u001b[0m \u001b[31m15.5 MB/s\u001b[0m eta \u001b[36m0:00:00\u001b[0m\n",
      "\u001b[?25hInstalling collected packages: captum\n",
      "Successfully installed captum-0.7.0\n"
     ]
    }
   ],
   "source": [
    "!pip install captum"
   ]
  },
  {
   "cell_type": "code",
   "execution_count": 9,
   "metadata": {
    "executionInfo": {
     "elapsed": 418,
     "status": "ok",
     "timestamp": 1733847968126,
     "user": {
      "displayName": "Devin Xiao",
      "userId": "17020114312814891256"
     },
     "user_tz": 360
    },
    "id": "EL6YE08lH7KQ"
   },
   "outputs": [],
   "source": [
    "from captum.attr import LayerConductance, LayerIntegratedGradients"
   ]
  },
  {
   "cell_type": "code",
   "execution_count": 10,
   "metadata": {
    "executionInfo": {
     "elapsed": 308,
     "status": "ok",
     "timestamp": 1733847977442,
     "user": {
      "displayName": "Devin Xiao",
      "userId": "17020114312814891256"
     },
     "user_tz": 360
    },
    "id": "FQfKHjCOIL-l"
   },
   "outputs": [],
   "source": [
    "def integrated_grad(model, tokenizer, text):\n",
    "\n",
    "\n",
    "    inputs = tokenizer(\n",
    "    [text],\n",
    "    return_tensors=\"pt\",\n",
    "    truncation=True,\n",
    "    max_length=512,\n",
    "    #padding='max_length',\n",
    ")\n",
    "\n",
    "    input_ids = inputs[\"input_ids\"]\n",
    "    attention_mask = inputs[\"attention_mask\"]\n",
    "    pred = predict(inputs=input_ids.to(device), attention_mask=attention_mask.to(device))\n",
    "\n",
    "    lig = LayerIntegratedGradients(class_forward_func, model.bert.embeddings)\n",
    "\n",
    "    pad_token_id = tokenizer.pad_token_id\n",
    "    ref_input_ids = torch.full_like(input_ids, pad_token_id).to(device)\n",
    "    input_ids = input_ids.to(device)\n",
    "    attention_mask = attention_mask.to(device)\n",
    "\n",
    "\n",
    "    attributions, delta = lig.attribute(\n",
    "        inputs=input_ids,\n",
    "        baselines=ref_input_ids,  # Baseline, `[PAD]` token embeddings\n",
    "        additional_forward_args=( attention_mask),\n",
    "        return_convergence_delta=True\n",
    "    )\n",
    "\n",
    "    return attributions, delta\n"
   ]
  },
  {
   "cell_type": "code",
   "execution_count": 11,
   "metadata": {
    "executionInfo": {
     "elapsed": 335,
     "status": "ok",
     "timestamp": 1733847981587,
     "user": {
      "displayName": "Devin Xiao",
      "userId": "17020114312814891256"
     },
     "user_tz": 360
    },
    "id": "aP2A4SwDKN27"
   },
   "outputs": [],
   "source": [
    "def summarize_attributions(attributions):\n",
    "    attributions = attributions.sum(dim=-1).squeeze(0)\n",
    "    attributions = attributions / torch.norm(attributions)\n",
    "    return attributions"
   ]
  },
  {
   "cell_type": "code",
   "execution_count": 12,
   "metadata": {
    "executionInfo": {
     "elapsed": 474,
     "status": "ok",
     "timestamp": 1733847982968,
     "user": {
      "displayName": "Devin Xiao",
      "userId": "17020114312814891256"
     },
     "user_tz": 360
    },
    "id": "xtDZjGSzM0Cu"
   },
   "outputs": [],
   "source": [
    "def summarize_integrated_grad(model, tokenizer, text):\n",
    "  attributions, delta = integrated_grad(model, tokenizer, text)\n",
    "  summarized_attributions = summarize_attributions(attributions)\n",
    "  return summarized_attributions"
   ]
  },
  {
   "cell_type": "code",
   "execution_count": 13,
   "metadata": {
    "executionInfo": {
     "elapsed": 34901,
     "status": "ok",
     "timestamp": 1733848032660,
     "user": {
      "displayName": "Devin Xiao",
      "userId": "17020114312814891256"
     },
     "user_tz": 360
    },
    "id": "tb77Hg3pGjRc"
   },
   "outputs": [],
   "source": [
    "text0_attributions = summarize_integrated_grad(model, tokenizer, texts[0])\n",
    "text1_attributions = summarize_integrated_grad(model, tokenizer, texts[1])\n",
    "text2_attributions = summarize_integrated_grad(model, tokenizer, texts[2])\n",
    "text3_attributions = summarize_integrated_grad(model, tokenizer, texts[3])\n",
    "text4_attributions = summarize_integrated_grad(model, tokenizer, texts[4])"
   ]
  },
  {
   "cell_type": "code",
   "execution_count": 16,
   "metadata": {
    "colab": {
     "base_uri": "https://localhost:8080/"
    },
    "executionInfo": {
     "elapsed": 305,
     "status": "ok",
     "timestamp": 1733848203445,
     "user": {
      "displayName": "Devin Xiao",
      "userId": "17020114312814891256"
     },
     "user_tz": 360
    },
    "id": "GOyZVQZnZTAy",
    "outputId": "6c4e4450-8ec8-4343-de9a-bfffb5907bd4"
   },
   "outputs": [
    {
     "name": "stdout",
     "output_type": "stream",
     "text": [
      "['[CLS]', 'looks', 'wet', 'and', 'ready', '[SEP]']\n",
      "tensor([ 0.0895, -0.0678,  0.6737,  0.1338,  0.5200,  0.4951],\n",
      "       dtype=torch.float64)\n",
      "['[CLS]', 'come', 'here', 'you', 'cu', '##dd', '##ly', 'little', 'ras', '##cal', '[SEP]']\n",
      "tensor([-0.1430,  0.3008,  0.1181,  0.3007,  0.0157,  0.6022,  0.0781,  0.0916,\n",
      "        -0.0965, -0.1662, -0.6086], dtype=torch.float64)\n",
      "['[CLS]', 'exactly', 'what', 'i', 'need', 'after', 'a', 'long', 'day', 'at', 'work', '.', '[SEP]']\n",
      "tensor([ 0.0470,  0.3485,  0.5126,  0.0418,  0.1618,  0.1911,  0.1741,  0.2510,\n",
      "         0.1260,  0.2882,  0.4625, -0.0783,  0.3699], dtype=torch.float64)\n",
      "['[CLS]', 'man', 'i', 'love', 'a', 'bush', '!', 'u', 'are', 'stunning', '[SEP]']\n",
      "tensor([ 0.0307, -0.0743,  0.0638,  0.3680,  0.1936,  0.2205,  0.1317,  0.2406,\n",
      "         0.0433,  0.2329,  0.7979], dtype=torch.float64)\n",
      "['[CLS]', 'mmm', '##mm', 'mmm', '##m', 'mmm', '[SEP]']\n",
      "tensor([0.0613, 0.1811, 0.1546, 0.2442, 0.1794, 0.5576, 0.7327],\n",
      "       dtype=torch.float64)\n"
     ]
    }
   ],
   "source": [
    "for attribution, text in zip([text0_attributions, text1_attributions, text2_attributions, text3_attributions, text4_attributions], texts):\n",
    "  text_tokens = tokenizer(text, return_tensors=\"pt\")\n",
    "  text_tokens = tokenizer.convert_ids_to_tokens(text_tokens['input_ids'][0].numpy())\n",
    "  print(text_tokens)\n",
    "  print(attribution)"
   ]
  },
  {
   "cell_type": "code",
   "execution_count": 17,
   "metadata": {
    "executionInfo": {
     "elapsed": 11590,
     "status": "ok",
     "timestamp": 1733848232263,
     "user": {
      "displayName": "Devin Xiao",
      "userId": "17020114312814891256"
     },
     "user_tz": 360
    },
    "id": "k9467VrZGjT2"
   },
   "outputs": [],
   "source": [
    "# load the mlm model\n",
    "mlm_model_path = 'dxhf100/lin371_mlm_tuned_classification_model'\n",
    "\n",
    "model = BertForSequenceClassification.from_pretrained(mlm_model_path)\n",
    "tokenizer = BertTokenizer.from_pretrained(mlm_model_path)\n",
    "model.to(device)\n",
    "model.eval()\n",
    "model.zero_grad()\n"
   ]
  },
  {
   "cell_type": "code",
   "execution_count": 18,
   "metadata": {
    "executionInfo": {
     "elapsed": 22351,
     "status": "ok",
     "timestamp": 1733848257827,
     "user": {
      "displayName": "Devin Xiao",
      "userId": "17020114312814891256"
     },
     "user_tz": 360
    },
    "id": "mRVmZEwNGjZ-"
   },
   "outputs": [],
   "source": [
    "mlm0_attributions = summarize_integrated_grad(model, tokenizer, texts[0])\n",
    "mlm1_attributions = summarize_integrated_grad(model, tokenizer, texts[1])\n",
    "mlm2_attributions = summarize_integrated_grad(model, tokenizer, texts[2])\n",
    "mlm3_attributions = summarize_integrated_grad(model, tokenizer, texts[3])\n",
    "mlm4_attributions = summarize_integrated_grad(model, tokenizer, texts[4])\n"
   ]
  },
  {
   "cell_type": "code",
   "execution_count": 19,
   "metadata": {
    "colab": {
     "base_uri": "https://localhost:8080/"
    },
    "executionInfo": {
     "elapsed": 333,
     "status": "ok",
     "timestamp": 1733848288234,
     "user": {
      "displayName": "Devin Xiao",
      "userId": "17020114312814891256"
     },
     "user_tz": 360
    },
    "id": "vETFfUIiaN_u",
    "outputId": "53c39531-7257-43c1-f3a3-bc04f7b04eba"
   },
   "outputs": [
    {
     "name": "stdout",
     "output_type": "stream",
     "text": [
      "['[CLS]', 'looks', 'wet', 'and', 'ready', '[SEP]']\n",
      "tensor([ 0.0836,  0.0394,  0.4431,  0.3749,  0.8067, -0.0621],\n",
      "       dtype=torch.float64)\n",
      "['[CLS]', 'come', 'here', 'you', 'cu', '##dd', '##ly', 'little', 'ras', '##cal', '[SEP]']\n",
      "tensor([-0.0585,  0.3938, -0.0605,  0.6081, -0.0402,  0.1627,  0.1148,  0.5357,\n",
      "        -0.2296,  0.0804,  0.2839], dtype=torch.float64)\n",
      "['[CLS]', 'exactly', 'what', 'i', 'need', 'after', 'a', 'long', 'day', 'at', 'work', '.', '[SEP]']\n",
      "tensor([-0.0943,  0.1563,  0.1696, -0.1734,  0.3216,  0.3031,  0.2491,  0.2333,\n",
      "         0.2119,  0.1527,  0.6794,  0.1266, -0.2244], dtype=torch.float64)\n",
      "['[CLS]', 'man', 'i', 'love', 'a', 'bush', '!', 'u', 'are', 'stunning', '[SEP]']\n",
      "tensor([ 0.0126, -0.0797,  0.0348,  0.3555,  0.1795,  0.0608,  0.2363,  0.3933,\n",
      "        -0.0416,  0.5714,  0.5396], dtype=torch.float64)\n",
      "['[CLS]', 'mmm', '##mm', 'mmm', '##m', 'mmm', '[SEP]']\n",
      "tensor([0.0045, 0.3401, 0.3311, 0.4415, 0.3949, 0.6061, 0.2374],\n",
      "       dtype=torch.float64)\n"
     ]
    }
   ],
   "source": [
    "for attribution, text in zip([mlm0_attributions, mlm1_attributions, mlm2_attributions, mlm3_attributions, mlm4_attributions], texts):\n",
    "  text_tokens = tokenizer(text, return_tensors=\"pt\")\n",
    "  text_tokens = tokenizer.convert_ids_to_tokens(text_tokens['input_ids'][0].numpy())\n",
    "  print(text_tokens)\n",
    "  print(attribution)"
   ]
  }
 ],
 "metadata": {
  "colab": {
   "provenance": []
  },
  "kernelspec": {
   "display_name": "Python 3",
   "name": "python3"
  },
  "language_info": {
   "name": "python"
  }
 },
 "nbformat": 4,
 "nbformat_minor": 0
}
